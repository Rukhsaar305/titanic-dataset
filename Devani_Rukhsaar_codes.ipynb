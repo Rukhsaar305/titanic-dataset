{
 "cells": [
  {
   "cell_type": "markdown",
   "metadata": {},
   "source": [
    "# Titanic Dataset"
   ]
  },
  {
   "cell_type": "markdown",
   "metadata": {},
   "source": [
    "## 1. Introduction"
   ]
  },
  {
   "cell_type": "markdown",
   "metadata": {},
   "source": [
    "On April 15, 1952, one of the most famous ship sank killing 1502 people. Life and death is all about luck but there are many more factors that played role. There were few group of people that were more likely to survive than others. In this Kaggle challenge our objective is to predict that factors that played role in making one group more fortunate than the other."
   ]
  },
  {
   "cell_type": "code",
   "execution_count": 1,
   "metadata": {},
   "outputs": [
    {
     "name": "stderr",
     "output_type": "stream",
     "text": [
      "C:\\Users\\Rukhsaar\\Anaconda3\\lib\\site-packages\\statsmodels\\tools\\_testing.py:19: FutureWarning: pandas.util.testing is deprecated. Use the functions in the public API at pandas.testing instead.\n",
      "  import pandas.util.testing as tm\n"
     ]
    }
   ],
   "source": [
    "#importing necessary libraries\n",
    "import pandas as pd\n",
    "import numpy as np\n",
    "from sklearn.impute import KNNImputer\n",
    "from sklearn.preprocessing import StandardScaler \n",
    "from sklearn.linear_model import LogisticRegression\n",
    "from sklearn.model_selection import cross_val_score\n",
    "from sklearn.model_selection import GridSearchCV\n",
    "from sklearn.neighbors import KNeighborsClassifier\n",
    "from sklearn.model_selection import StratifiedKFold\n",
    "from sklearn.tree import DecisionTreeClassifier, export_graphviz\n",
    "from sklearn.model_selection import train_test_split\n",
    "from sklearn.linear_model import LogisticRegression\n",
    "from sklearn.model_selection import cross_val_score\n",
    "import seaborn as sns; sns.set()\n",
    "import matplotlib as mpl\n",
    "import matplotlib.pyplot as plt\n",
    "from sklearn.manifold import TSNE\n",
    "from sklearn.svm import SVC\n",
    "from sklearn.ensemble import RandomForestClassifier\n",
    "from sklearn.metrics import accuracy_score"
   ]
  },
  {
   "cell_type": "code",
   "execution_count": 2,
   "metadata": {},
   "outputs": [
    {
     "name": "stdout",
     "output_type": "stream",
     "text": [
      "train data\n",
      "\n",
      "    PassengerId  Survived  Pclass  \\\n",
      "0            1         0       3   \n",
      "1            2         1       1   \n",
      "2            3         1       3   \n",
      "3            4         1       1   \n",
      "4            5         0       3   \n",
      "\n",
      "                                                Name     Sex   Age  SibSp  \\\n",
      "0                            Braund, Mr. Owen Harris    male  22.0      1   \n",
      "1  Cumings, Mrs. John Bradley (Florence Briggs Th...  female  38.0      1   \n",
      "2                             Heikkinen, Miss. Laina  female  26.0      0   \n",
      "3       Futrelle, Mrs. Jacques Heath (Lily May Peel)  female  35.0      1   \n",
      "4                           Allen, Mr. William Henry    male  35.0      0   \n",
      "\n",
      "   Parch            Ticket     Fare Cabin Embarked  \n",
      "0      0         A/5 21171   7.2500   NaN        S  \n",
      "1      0          PC 17599  71.2833   C85        C  \n",
      "2      0  STON/O2. 3101282   7.9250   NaN        S  \n",
      "3      0            113803  53.1000  C123        S  \n",
      "4      0            373450   8.0500   NaN        S  \n",
      "\n",
      "\n",
      "test data\n",
      "    PassengerId  Pclass                                          Name     Sex  \\\n",
      "0          892       3                              Kelly, Mr. James    male   \n",
      "1          893       3              Wilkes, Mrs. James (Ellen Needs)  female   \n",
      "2          894       2                     Myles, Mr. Thomas Francis    male   \n",
      "3          895       3                              Wirz, Mr. Albert    male   \n",
      "4          896       3  Hirvonen, Mrs. Alexander (Helga E Lindqvist)  female   \n",
      "\n",
      "    Age  SibSp  Parch   Ticket     Fare Cabin Embarked  \n",
      "0  34.5      0      0   330911   7.8292   NaN        Q  \n",
      "1  47.0      1      0   363272   7.0000   NaN        S  \n",
      "2  62.0      0      0   240276   9.6875   NaN        Q  \n",
      "3  27.0      0      0   315154   8.6625   NaN        S  \n",
      "4  22.0      1      1  3101298  12.2875   NaN        S  \n"
     ]
    }
   ],
   "source": [
    "#importing the data\n",
    "titanic_train_main = pd.read_csv(\"titanic/train.csv\")\n",
    "titanic_test_main = pd.read_csv(\"titanic/test.csv\")\n",
    "print(\"train data\\n\\n\", titanic_train_main.head())\n",
    "print(\"\\n\\ntest data\\n\", titanic_test_main.head())"
   ]
  },
  {
   "cell_type": "markdown",
   "metadata": {},
   "source": [
    "## Description of Data\n",
    "We have two CSV file – 1) Train data and 2) Test Data. The main difference between those two files are that the train data has the column survived and in the test data we need to predict that column survived. \n"
   ]
  },
  {
   "cell_type": "code",
   "execution_count": 3,
   "metadata": {},
   "outputs": [
    {
     "data": {
      "text/html": [
       "<div>\n",
       "<style scoped>\n",
       "    .dataframe tbody tr th:only-of-type {\n",
       "        vertical-align: middle;\n",
       "    }\n",
       "\n",
       "    .dataframe tbody tr th {\n",
       "        vertical-align: top;\n",
       "    }\n",
       "\n",
       "    .dataframe thead th {\n",
       "        text-align: right;\n",
       "    }\n",
       "</style>\n",
       "<table border=\"1\" class=\"dataframe\">\n",
       "  <thead>\n",
       "    <tr style=\"text-align: right;\">\n",
       "      <th></th>\n",
       "      <th>PassengerId</th>\n",
       "      <th>Survived</th>\n",
       "      <th>Pclass</th>\n",
       "      <th>Age</th>\n",
       "      <th>SibSp</th>\n",
       "      <th>Parch</th>\n",
       "      <th>Fare</th>\n",
       "    </tr>\n",
       "  </thead>\n",
       "  <tbody>\n",
       "    <tr>\n",
       "      <th>count</th>\n",
       "      <td>891.000000</td>\n",
       "      <td>891.000000</td>\n",
       "      <td>891.000000</td>\n",
       "      <td>714.000000</td>\n",
       "      <td>891.000000</td>\n",
       "      <td>891.000000</td>\n",
       "      <td>891.000000</td>\n",
       "    </tr>\n",
       "    <tr>\n",
       "      <th>mean</th>\n",
       "      <td>446.000000</td>\n",
       "      <td>0.383838</td>\n",
       "      <td>2.308642</td>\n",
       "      <td>29.699118</td>\n",
       "      <td>0.523008</td>\n",
       "      <td>0.381594</td>\n",
       "      <td>32.204208</td>\n",
       "    </tr>\n",
       "    <tr>\n",
       "      <th>std</th>\n",
       "      <td>257.353842</td>\n",
       "      <td>0.486592</td>\n",
       "      <td>0.836071</td>\n",
       "      <td>14.526497</td>\n",
       "      <td>1.102743</td>\n",
       "      <td>0.806057</td>\n",
       "      <td>49.693429</td>\n",
       "    </tr>\n",
       "    <tr>\n",
       "      <th>min</th>\n",
       "      <td>1.000000</td>\n",
       "      <td>0.000000</td>\n",
       "      <td>1.000000</td>\n",
       "      <td>0.420000</td>\n",
       "      <td>0.000000</td>\n",
       "      <td>0.000000</td>\n",
       "      <td>0.000000</td>\n",
       "    </tr>\n",
       "    <tr>\n",
       "      <th>25%</th>\n",
       "      <td>223.500000</td>\n",
       "      <td>0.000000</td>\n",
       "      <td>2.000000</td>\n",
       "      <td>20.125000</td>\n",
       "      <td>0.000000</td>\n",
       "      <td>0.000000</td>\n",
       "      <td>7.910400</td>\n",
       "    </tr>\n",
       "    <tr>\n",
       "      <th>50%</th>\n",
       "      <td>446.000000</td>\n",
       "      <td>0.000000</td>\n",
       "      <td>3.000000</td>\n",
       "      <td>28.000000</td>\n",
       "      <td>0.000000</td>\n",
       "      <td>0.000000</td>\n",
       "      <td>14.454200</td>\n",
       "    </tr>\n",
       "    <tr>\n",
       "      <th>75%</th>\n",
       "      <td>668.500000</td>\n",
       "      <td>1.000000</td>\n",
       "      <td>3.000000</td>\n",
       "      <td>38.000000</td>\n",
       "      <td>1.000000</td>\n",
       "      <td>0.000000</td>\n",
       "      <td>31.000000</td>\n",
       "    </tr>\n",
       "    <tr>\n",
       "      <th>max</th>\n",
       "      <td>891.000000</td>\n",
       "      <td>1.000000</td>\n",
       "      <td>3.000000</td>\n",
       "      <td>80.000000</td>\n",
       "      <td>8.000000</td>\n",
       "      <td>6.000000</td>\n",
       "      <td>512.329200</td>\n",
       "    </tr>\n",
       "  </tbody>\n",
       "</table>\n",
       "</div>"
      ],
      "text/plain": [
       "       PassengerId    Survived      Pclass         Age       SibSp  \\\n",
       "count   891.000000  891.000000  891.000000  714.000000  891.000000   \n",
       "mean    446.000000    0.383838    2.308642   29.699118    0.523008   \n",
       "std     257.353842    0.486592    0.836071   14.526497    1.102743   \n",
       "min       1.000000    0.000000    1.000000    0.420000    0.000000   \n",
       "25%     223.500000    0.000000    2.000000   20.125000    0.000000   \n",
       "50%     446.000000    0.000000    3.000000   28.000000    0.000000   \n",
       "75%     668.500000    1.000000    3.000000   38.000000    1.000000   \n",
       "max     891.000000    1.000000    3.000000   80.000000    8.000000   \n",
       "\n",
       "            Parch        Fare  \n",
       "count  891.000000  891.000000  \n",
       "mean     0.381594   32.204208  \n",
       "std      0.806057   49.693429  \n",
       "min      0.000000    0.000000  \n",
       "25%      0.000000    7.910400  \n",
       "50%      0.000000   14.454200  \n",
       "75%      0.000000   31.000000  \n",
       "max      6.000000  512.329200  "
      ]
     },
     "execution_count": 3,
     "metadata": {},
     "output_type": "execute_result"
    }
   ],
   "source": [
    "# Describe the train data\n",
    "titanic_train_main.describe()"
   ]
  },
  {
   "cell_type": "code",
   "execution_count": 4,
   "metadata": {},
   "outputs": [
    {
     "name": "stdout",
     "output_type": "stream",
     "text": [
      "Train Data type\n",
      "\n",
      " PassengerId      int64\n",
      "Survived         int64\n",
      "Pclass           int64\n",
      "Name            object\n",
      "Sex             object\n",
      "Age            float64\n",
      "SibSp            int64\n",
      "Parch            int64\n",
      "Ticket          object\n",
      "Fare           float64\n",
      "Cabin           object\n",
      "Embarked        object\n",
      "dtype: object\n",
      "\n",
      "\n",
      "Test Data type\n",
      "\n",
      " PassengerId      int64\n",
      "Pclass           int64\n",
      "Name            object\n",
      "Sex             object\n",
      "Age            float64\n",
      "SibSp            int64\n",
      "Parch            int64\n",
      "Ticket          object\n",
      "Fare           float64\n",
      "Cabin           object\n",
      "Embarked        object\n",
      "dtype: object\n"
     ]
    }
   ],
   "source": [
    "# checking data types\n",
    "print(\"Train Data type\\n\\n\",titanic_train_main.dtypes)\n",
    "print(\"\\n\\nTest Data type\\n\\n\",titanic_test_main.dtypes)"
   ]
  },
  {
   "cell_type": "markdown",
   "metadata": {},
   "source": [
    "Our target variable is ‘Survived’ which is Categorical. 1 means Survived and Zero indicated Not Survived. Lets looks at the Features:"
   ]
  },
  {
   "cell_type": "markdown",
   "metadata": {},
   "source": [
    "## Data Cleaning and Preprocessing:\n",
    "#### Step 1: \n",
    "Merge the train and test data: As we will be training on Train data and then testing on Test Data, we need to merge both the data’s to clean them on the same scale. "
   ]
  },
  {
   "cell_type": "code",
   "execution_count": 5,
   "metadata": {},
   "outputs": [
    {
     "data": {
      "text/html": [
       "<div>\n",
       "<style scoped>\n",
       "    .dataframe tbody tr th:only-of-type {\n",
       "        vertical-align: middle;\n",
       "    }\n",
       "\n",
       "    .dataframe tbody tr th {\n",
       "        vertical-align: top;\n",
       "    }\n",
       "\n",
       "    .dataframe thead th {\n",
       "        text-align: right;\n",
       "    }\n",
       "</style>\n",
       "<table border=\"1\" class=\"dataframe\">\n",
       "  <thead>\n",
       "    <tr style=\"text-align: right;\">\n",
       "      <th></th>\n",
       "      <th>PassengerId</th>\n",
       "      <th>Survived</th>\n",
       "      <th>Pclass</th>\n",
       "      <th>Name</th>\n",
       "      <th>Sex</th>\n",
       "      <th>Age</th>\n",
       "      <th>SibSp</th>\n",
       "      <th>Parch</th>\n",
       "      <th>Ticket</th>\n",
       "      <th>Fare</th>\n",
       "      <th>Cabin</th>\n",
       "      <th>Embarked</th>\n",
       "    </tr>\n",
       "  </thead>\n",
       "  <tbody>\n",
       "    <tr>\n",
       "      <th>0</th>\n",
       "      <td>1</td>\n",
       "      <td>0.0</td>\n",
       "      <td>3</td>\n",
       "      <td>Braund, Mr. Owen Harris</td>\n",
       "      <td>male</td>\n",
       "      <td>22.0</td>\n",
       "      <td>1</td>\n",
       "      <td>0</td>\n",
       "      <td>A/5 21171</td>\n",
       "      <td>7.2500</td>\n",
       "      <td>NaN</td>\n",
       "      <td>S</td>\n",
       "    </tr>\n",
       "    <tr>\n",
       "      <th>1</th>\n",
       "      <td>2</td>\n",
       "      <td>1.0</td>\n",
       "      <td>1</td>\n",
       "      <td>Cumings, Mrs. John Bradley (Florence Briggs Th...</td>\n",
       "      <td>female</td>\n",
       "      <td>38.0</td>\n",
       "      <td>1</td>\n",
       "      <td>0</td>\n",
       "      <td>PC 17599</td>\n",
       "      <td>71.2833</td>\n",
       "      <td>C85</td>\n",
       "      <td>C</td>\n",
       "    </tr>\n",
       "    <tr>\n",
       "      <th>2</th>\n",
       "      <td>3</td>\n",
       "      <td>1.0</td>\n",
       "      <td>3</td>\n",
       "      <td>Heikkinen, Miss. Laina</td>\n",
       "      <td>female</td>\n",
       "      <td>26.0</td>\n",
       "      <td>0</td>\n",
       "      <td>0</td>\n",
       "      <td>STON/O2. 3101282</td>\n",
       "      <td>7.9250</td>\n",
       "      <td>NaN</td>\n",
       "      <td>S</td>\n",
       "    </tr>\n",
       "    <tr>\n",
       "      <th>3</th>\n",
       "      <td>4</td>\n",
       "      <td>1.0</td>\n",
       "      <td>1</td>\n",
       "      <td>Futrelle, Mrs. Jacques Heath (Lily May Peel)</td>\n",
       "      <td>female</td>\n",
       "      <td>35.0</td>\n",
       "      <td>1</td>\n",
       "      <td>0</td>\n",
       "      <td>113803</td>\n",
       "      <td>53.1000</td>\n",
       "      <td>C123</td>\n",
       "      <td>S</td>\n",
       "    </tr>\n",
       "    <tr>\n",
       "      <th>4</th>\n",
       "      <td>5</td>\n",
       "      <td>0.0</td>\n",
       "      <td>3</td>\n",
       "      <td>Allen, Mr. William Henry</td>\n",
       "      <td>male</td>\n",
       "      <td>35.0</td>\n",
       "      <td>0</td>\n",
       "      <td>0</td>\n",
       "      <td>373450</td>\n",
       "      <td>8.0500</td>\n",
       "      <td>NaN</td>\n",
       "      <td>S</td>\n",
       "    </tr>\n",
       "  </tbody>\n",
       "</table>\n",
       "</div>"
      ],
      "text/plain": [
       "   PassengerId  Survived  Pclass  \\\n",
       "0            1       0.0       3   \n",
       "1            2       1.0       1   \n",
       "2            3       1.0       3   \n",
       "3            4       1.0       1   \n",
       "4            5       0.0       3   \n",
       "\n",
       "                                                Name     Sex   Age  SibSp  \\\n",
       "0                            Braund, Mr. Owen Harris    male  22.0      1   \n",
       "1  Cumings, Mrs. John Bradley (Florence Briggs Th...  female  38.0      1   \n",
       "2                             Heikkinen, Miss. Laina  female  26.0      0   \n",
       "3       Futrelle, Mrs. Jacques Heath (Lily May Peel)  female  35.0      1   \n",
       "4                           Allen, Mr. William Henry    male  35.0      0   \n",
       "\n",
       "   Parch            Ticket     Fare Cabin Embarked  \n",
       "0      0         A/5 21171   7.2500   NaN        S  \n",
       "1      0          PC 17599  71.2833   C85        C  \n",
       "2      0  STON/O2. 3101282   7.9250   NaN        S  \n",
       "3      0            113803  53.1000  C123        S  \n",
       "4      0            373450   8.0500   NaN        S  "
      ]
     },
     "execution_count": 5,
     "metadata": {},
     "output_type": "execute_result"
    }
   ],
   "source": [
    "# merging train and test data using pd.concat\n",
    "titanic = pd.concat([titanic_train_main,titanic_test_main],axis =0,\n",
    "                    ignore_index=True)\n",
    "titanic.head()"
   ]
  },
  {
   "cell_type": "markdown",
   "metadata": {},
   "source": [
    "### step 2: Adding columns. \n",
    "Before we go for checking missing values or or anything I want to try my analysis by creating a new column named title to find out if there is any relationship between a persons title or rank example Mr, Mrs, Doc or not. It might be useful for us in finding the missing age. "
   ]
  },
  {
   "cell_type": "code",
   "execution_count": 6,
   "metadata": {},
   "outputs": [
    {
     "name": "stdout",
     "output_type": "stream",
     "text": [
      "title:            Survived\n",
      "title              \n",
      "Capt.           0.0\n",
      "Col.            1.0\n",
      "Don.            0.0\n",
      "Dona.           0.0\n",
      "Dr.             3.0\n",
      "Jonkheer.       0.0\n",
      "Lady.           1.0\n",
      "Major.          1.0\n",
      "Master.        23.0\n",
      "Miss.         127.0\n",
      "Mlle.           2.0\n",
      "Mme.            1.0\n",
      "Mr.            81.0\n",
      "Mrs.           99.0\n",
      "Ms.             1.0\n",
      "Rev.            0.0\n",
      "Sir.            1.0\n",
      "the             1.0\n"
     ]
    }
   ],
   "source": [
    "#Generating title\n",
    "titanic['title'] = titanic.Name.apply(lambda name: name.split(',')[1].split()[0])\n",
    "titanic.title.value_counts()\n",
    "titanic.head()\n",
    "title_survived = titanic[['Survived','title']].groupby(['title']).sum()\n",
    "print(\"title:\",title_survived)\n"
   ]
  },
  {
   "cell_type": "code",
   "execution_count": 7,
   "metadata": {},
   "outputs": [
    {
     "data": {
      "text/html": [
       "<div>\n",
       "<style scoped>\n",
       "    .dataframe tbody tr th:only-of-type {\n",
       "        vertical-align: middle;\n",
       "    }\n",
       "\n",
       "    .dataframe tbody tr th {\n",
       "        vertical-align: top;\n",
       "    }\n",
       "\n",
       "    .dataframe thead th {\n",
       "        text-align: right;\n",
       "    }\n",
       "</style>\n",
       "<table border=\"1\" class=\"dataframe\">\n",
       "  <thead>\n",
       "    <tr style=\"text-align: right;\">\n",
       "      <th></th>\n",
       "      <th>PassengerId</th>\n",
       "      <th>Survived</th>\n",
       "      <th>Pclass</th>\n",
       "      <th>Name</th>\n",
       "      <th>Sex</th>\n",
       "      <th>Age</th>\n",
       "      <th>SibSp</th>\n",
       "      <th>Parch</th>\n",
       "      <th>Ticket</th>\n",
       "      <th>Fare</th>\n",
       "      <th>Cabin</th>\n",
       "      <th>Embarked</th>\n",
       "      <th>title</th>\n",
       "    </tr>\n",
       "  </thead>\n",
       "  <tbody>\n",
       "    <tr>\n",
       "      <th>0</th>\n",
       "      <td>1</td>\n",
       "      <td>0.0</td>\n",
       "      <td>3</td>\n",
       "      <td>Braund, Mr. Owen Harris</td>\n",
       "      <td>male</td>\n",
       "      <td>22.0</td>\n",
       "      <td>1</td>\n",
       "      <td>0</td>\n",
       "      <td>A/5 21171</td>\n",
       "      <td>7.2500</td>\n",
       "      <td>NaN</td>\n",
       "      <td>S</td>\n",
       "      <td>1.0</td>\n",
       "    </tr>\n",
       "    <tr>\n",
       "      <th>1</th>\n",
       "      <td>2</td>\n",
       "      <td>1.0</td>\n",
       "      <td>1</td>\n",
       "      <td>Cumings, Mrs. John Bradley (Florence Briggs Th...</td>\n",
       "      <td>female</td>\n",
       "      <td>38.0</td>\n",
       "      <td>1</td>\n",
       "      <td>0</td>\n",
       "      <td>PC 17599</td>\n",
       "      <td>71.2833</td>\n",
       "      <td>C85</td>\n",
       "      <td>C</td>\n",
       "      <td>2.0</td>\n",
       "    </tr>\n",
       "    <tr>\n",
       "      <th>2</th>\n",
       "      <td>3</td>\n",
       "      <td>1.0</td>\n",
       "      <td>3</td>\n",
       "      <td>Heikkinen, Miss. Laina</td>\n",
       "      <td>female</td>\n",
       "      <td>26.0</td>\n",
       "      <td>0</td>\n",
       "      <td>0</td>\n",
       "      <td>STON/O2. 3101282</td>\n",
       "      <td>7.9250</td>\n",
       "      <td>NaN</td>\n",
       "      <td>S</td>\n",
       "      <td>3.0</td>\n",
       "    </tr>\n",
       "    <tr>\n",
       "      <th>3</th>\n",
       "      <td>4</td>\n",
       "      <td>1.0</td>\n",
       "      <td>1</td>\n",
       "      <td>Futrelle, Mrs. Jacques Heath (Lily May Peel)</td>\n",
       "      <td>female</td>\n",
       "      <td>35.0</td>\n",
       "      <td>1</td>\n",
       "      <td>0</td>\n",
       "      <td>113803</td>\n",
       "      <td>53.1000</td>\n",
       "      <td>C123</td>\n",
       "      <td>S</td>\n",
       "      <td>2.0</td>\n",
       "    </tr>\n",
       "    <tr>\n",
       "      <th>4</th>\n",
       "      <td>5</td>\n",
       "      <td>0.0</td>\n",
       "      <td>3</td>\n",
       "      <td>Allen, Mr. William Henry</td>\n",
       "      <td>male</td>\n",
       "      <td>35.0</td>\n",
       "      <td>0</td>\n",
       "      <td>0</td>\n",
       "      <td>373450</td>\n",
       "      <td>8.0500</td>\n",
       "      <td>NaN</td>\n",
       "      <td>S</td>\n",
       "      <td>1.0</td>\n",
       "    </tr>\n",
       "    <tr>\n",
       "      <th>...</th>\n",
       "      <td>...</td>\n",
       "      <td>...</td>\n",
       "      <td>...</td>\n",
       "      <td>...</td>\n",
       "      <td>...</td>\n",
       "      <td>...</td>\n",
       "      <td>...</td>\n",
       "      <td>...</td>\n",
       "      <td>...</td>\n",
       "      <td>...</td>\n",
       "      <td>...</td>\n",
       "      <td>...</td>\n",
       "      <td>...</td>\n",
       "    </tr>\n",
       "    <tr>\n",
       "      <th>1304</th>\n",
       "      <td>1305</td>\n",
       "      <td>NaN</td>\n",
       "      <td>3</td>\n",
       "      <td>Spector, Mr. Woolf</td>\n",
       "      <td>male</td>\n",
       "      <td>NaN</td>\n",
       "      <td>0</td>\n",
       "      <td>0</td>\n",
       "      <td>A.5. 3236</td>\n",
       "      <td>8.0500</td>\n",
       "      <td>NaN</td>\n",
       "      <td>S</td>\n",
       "      <td>1.0</td>\n",
       "    </tr>\n",
       "    <tr>\n",
       "      <th>1305</th>\n",
       "      <td>1306</td>\n",
       "      <td>NaN</td>\n",
       "      <td>1</td>\n",
       "      <td>Oliva y Ocana, Dona. Fermina</td>\n",
       "      <td>female</td>\n",
       "      <td>39.0</td>\n",
       "      <td>0</td>\n",
       "      <td>0</td>\n",
       "      <td>PC 17758</td>\n",
       "      <td>108.9000</td>\n",
       "      <td>C105</td>\n",
       "      <td>C</td>\n",
       "      <td>2.0</td>\n",
       "    </tr>\n",
       "    <tr>\n",
       "      <th>1306</th>\n",
       "      <td>1307</td>\n",
       "      <td>NaN</td>\n",
       "      <td>3</td>\n",
       "      <td>Saether, Mr. Simon Sivertsen</td>\n",
       "      <td>male</td>\n",
       "      <td>38.5</td>\n",
       "      <td>0</td>\n",
       "      <td>0</td>\n",
       "      <td>SOTON/O.Q. 3101262</td>\n",
       "      <td>7.2500</td>\n",
       "      <td>NaN</td>\n",
       "      <td>S</td>\n",
       "      <td>1.0</td>\n",
       "    </tr>\n",
       "    <tr>\n",
       "      <th>1307</th>\n",
       "      <td>1308</td>\n",
       "      <td>NaN</td>\n",
       "      <td>3</td>\n",
       "      <td>Ware, Mr. Frederick</td>\n",
       "      <td>male</td>\n",
       "      <td>NaN</td>\n",
       "      <td>0</td>\n",
       "      <td>0</td>\n",
       "      <td>359309</td>\n",
       "      <td>8.0500</td>\n",
       "      <td>NaN</td>\n",
       "      <td>S</td>\n",
       "      <td>1.0</td>\n",
       "    </tr>\n",
       "    <tr>\n",
       "      <th>1308</th>\n",
       "      <td>1309</td>\n",
       "      <td>NaN</td>\n",
       "      <td>3</td>\n",
       "      <td>Peter, Master. Michael J</td>\n",
       "      <td>male</td>\n",
       "      <td>NaN</td>\n",
       "      <td>1</td>\n",
       "      <td>1</td>\n",
       "      <td>2668</td>\n",
       "      <td>22.3583</td>\n",
       "      <td>NaN</td>\n",
       "      <td>C</td>\n",
       "      <td>4.0</td>\n",
       "    </tr>\n",
       "  </tbody>\n",
       "</table>\n",
       "<p>1309 rows × 13 columns</p>\n",
       "</div>"
      ],
      "text/plain": [
       "      PassengerId  Survived  Pclass  \\\n",
       "0               1       0.0       3   \n",
       "1               2       1.0       1   \n",
       "2               3       1.0       3   \n",
       "3               4       1.0       1   \n",
       "4               5       0.0       3   \n",
       "...           ...       ...     ...   \n",
       "1304         1305       NaN       3   \n",
       "1305         1306       NaN       1   \n",
       "1306         1307       NaN       3   \n",
       "1307         1308       NaN       3   \n",
       "1308         1309       NaN       3   \n",
       "\n",
       "                                                   Name     Sex   Age  SibSp  \\\n",
       "0                               Braund, Mr. Owen Harris    male  22.0      1   \n",
       "1     Cumings, Mrs. John Bradley (Florence Briggs Th...  female  38.0      1   \n",
       "2                                Heikkinen, Miss. Laina  female  26.0      0   \n",
       "3          Futrelle, Mrs. Jacques Heath (Lily May Peel)  female  35.0      1   \n",
       "4                              Allen, Mr. William Henry    male  35.0      0   \n",
       "...                                                 ...     ...   ...    ...   \n",
       "1304                                 Spector, Mr. Woolf    male   NaN      0   \n",
       "1305                       Oliva y Ocana, Dona. Fermina  female  39.0      0   \n",
       "1306                       Saether, Mr. Simon Sivertsen    male  38.5      0   \n",
       "1307                                Ware, Mr. Frederick    male   NaN      0   \n",
       "1308                           Peter, Master. Michael J    male   NaN      1   \n",
       "\n",
       "      Parch              Ticket      Fare Cabin Embarked  title  \n",
       "0         0           A/5 21171    7.2500   NaN        S    1.0  \n",
       "1         0            PC 17599   71.2833   C85        C    2.0  \n",
       "2         0    STON/O2. 3101282    7.9250   NaN        S    3.0  \n",
       "3         0              113803   53.1000  C123        S    2.0  \n",
       "4         0              373450    8.0500   NaN        S    1.0  \n",
       "...     ...                 ...       ...   ...      ...    ...  \n",
       "1304      0           A.5. 3236    8.0500   NaN        S    1.0  \n",
       "1305      0            PC 17758  108.9000  C105        C    2.0  \n",
       "1306      0  SOTON/O.Q. 3101262    7.2500   NaN        S    1.0  \n",
       "1307      0              359309    8.0500   NaN        S    1.0  \n",
       "1308      1                2668   22.3583   NaN        C    4.0  \n",
       "\n",
       "[1309 rows x 13 columns]"
      ]
     },
     "execution_count": 7,
     "metadata": {},
     "output_type": "execute_result"
    }
   ],
   "source": [
    "#combining titles and mapping them\n",
    "title = {'Mr.':1, 'Mrs.':2, 'Miss.':3, 'Master.':4, 'Don.':5 , 'Rev.':5 , 'Dr.':5, 'Mme.':2,\n",
    "       'Ms.':3, 'Major.':5, 'Lady.':5, 'Sir.':5, 'Mlle.':5, 'Col.':5, 'Capt.':5, 'the':5,\n",
    "       'Jonkheer.':1 }\n",
    "titanic.title = titanic.title.map(title)\n",
    "\n",
    "titanic.title = titanic.title.fillna(2)\n",
    "titanic"
   ]
  },
  {
   "cell_type": "code",
   "execution_count": 8,
   "metadata": {},
   "outputs": [
    {
     "data": {
      "text/plain": [
       "<matplotlib.axes._subplots.AxesSubplot at 0x1cd44aa2088>"
      ]
     },
     "execution_count": 8,
     "metadata": {},
     "output_type": "execute_result"
    },
    {
     "data": {
      "image/png": "[encoded data removed]",
      "text/plain": [
       "<Figure size 432x288 with 2 Axes>"
      ]
     },
     "metadata": {
      "needs_background": "light"
     },
     "output_type": "display_data"
    }
   ],
   "source": [
    "#checking correlation between all the features\n",
    "titanic_corr = titanic.corr()\n",
    "sns.heatmap(titanic_corr, annot = True, cbar = True, cmap = \"twilight\")"
   ]
  },
  {
   "cell_type": "markdown",
   "metadata": {},
   "source": [
    "The above columns shows that the age and survived have -7% correlation where as P class and survived are inversely correlated. We also see that the title and Survived are 41% correlated"
   ]
  },
  {
   "cell_type": "markdown",
   "metadata": {},
   "source": [
    "### Creating new column Family\n",
    "we also see that SibSp and Parch that is Parents, Sibblings and spouse all belong to a family. So we will go forward and combine the count of Sibling/Spouse and Parent/Children. This feature together might be important as if having a larger family was important to get a spot on life boat or being alone. \n"
   ]
  },
  {
   "cell_type": "code",
   "execution_count": 9,
   "metadata": {},
   "outputs": [],
   "source": [
    "#adding a new column family and deleting parch and Sibsp\n",
    "titanic[\"Family\"] = titanic.Parch + titanic.SibSp + 1\n",
    "titanic = titanic.drop(columns = [\"SibSp\", \"Parch\"])"
   ]
  },
  {
   "cell_type": "markdown",
   "metadata": {},
   "source": [
    "From the above visualization it is clear that there is a relation between Survival and title. "
   ]
  },
  {
   "cell_type": "markdown",
   "metadata": {},
   "source": [
    "### Lets check the missing values\n"
   ]
  },
  {
   "cell_type": "code",
   "execution_count": 10,
   "metadata": {},
   "outputs": [
    {
     "data": {
      "text/plain": [
       "PassengerId     0.000000\n",
       "Survived       31.932773\n",
       "Pclass          0.000000\n",
       "Name            0.000000\n",
       "Sex             0.000000\n",
       "Age            20.091673\n",
       "Ticket          0.000000\n",
       "Fare            0.076394\n",
       "Cabin          77.463713\n",
       "Embarked        0.152788\n",
       "title           0.000000\n",
       "Family          0.000000\n",
       "dtype: float64"
      ]
     },
     "execution_count": 10,
     "metadata": {},
     "output_type": "execute_result"
    }
   ],
   "source": [
    "# finding percentage of null value in each column\n",
    "null_value = titanic.isnull().sum()/len(titanic)*100\n",
    "null_value"
   ]
  },
  {
   "cell_type": "markdown",
   "metadata": {},
   "source": [
    "We see that Survived have 31.93% missing values which is because the test data doesn’t have Survived column. Age has 20.09% missing values, Cabin have 77.46% and Embarked 0.15%."
   ]
  },
  {
   "cell_type": "markdown",
   "metadata": {},
   "source": [
    "### Fill the missing values and drop columns that are not necessary\n",
    "Let's drop PassengerId, Name as they are not necessary\n",
    "we will also drop cabin as it has 77.4% missing values and the rest 22.6% are not related in any way\n",
    "We will also be dropping ticket as it has number which is not related in any way\n"
   ]
  },
  {
   "cell_type": "code",
   "execution_count": 11,
   "metadata": {},
   "outputs": [],
   "source": [
    "#droping passengerId, Name, Cabin and ticket\n",
    "titanic = titanic.drop(columns = [\"PassengerId\",\"Name\",\"Cabin\",\"Ticket\"])"
   ]
  },
  {
   "cell_type": "markdown",
   "metadata": {},
   "source": [
    "As Embarked has 0.15% of missing value, I will use mode to to fill it.\n"
   ]
  },
  {
   "cell_type": "code",
   "execution_count": 12,
   "metadata": {},
   "outputs": [
    {
     "data": {
      "text/plain": [
       "S    914\n",
       "C    270\n",
       "Q    123\n",
       "Name: Embarked, dtype: int64"
      ]
     },
     "execution_count": 12,
     "metadata": {},
     "output_type": "execute_result"
    }
   ],
   "source": [
    "#Finding the sum of counts of Embarked\n",
    "titanic.Embarked.value_counts()"
   ]
  },
  {
   "cell_type": "code",
   "execution_count": 13,
   "metadata": {},
   "outputs": [],
   "source": [
    "# as S occurs the highest number of time, we will use S \n",
    "titanic.Embarked = titanic.Embarked.fillna(\"S\")"
   ]
  },
  {
   "cell_type": "markdown",
   "metadata": {},
   "source": [
    "### Creating Dummy Variables: \n",
    "we will be creating dummy variables for all categorical variables as the algorithm can take only numbers and letters. We will use pandas pd.get_dummies() to convert Sex, Embarked, Pclass and title to dummy variable"
   ]
  },
  {
   "cell_type": "code",
   "execution_count": 14,
   "metadata": {},
   "outputs": [],
   "source": [
    "#creating dummy variable for sex embarkked p class nad title\n",
    "titanic = pd.get_dummies(titanic, columns = [\"Sex\",\"Embarked\",\"Pclass\",\"title\"])"
   ]
  },
  {
   "cell_type": "code",
   "execution_count": 15,
   "metadata": {},
   "outputs": [],
   "source": [
    "#dropping one column from the dummies created\n",
    "titanic = titanic.drop(columns = [\"Embarked_Q\",\"Pclass_1\",\"Sex_female\",\"title_5.0\"])"
   ]
  },
  {
   "cell_type": "markdown",
   "metadata": {},
   "source": [
    "### Filling missing values for age\n",
    "Rather than using mean, from the above correlation it shows that Age is highly negatively correlated with Pclass.It is also dependent on age and title. We will group them and use median to predict the age."
   ]
  },
  {
   "cell_type": "markdown",
   "metadata": {},
   "source": [
    "I tried 2 analysis for predicting age. One I filled age using median and the other one age using KNN. I will be attaching results for both but my KNN gave me better result then Median. I have also attached code for median\n",
    "#titanicgroupage = titanic.groupby([\"Sex\",\"Pclass\",\"title\"])\n",
    "#titanicgroupage.Age.median()\n",
    "#titanic.Age = titanicgroupage.Age.apply(lambda x:x.fillna(x.median()))"
   ]
  },
  {
   "cell_type": "markdown",
   "metadata": {},
   "source": [
    "### Missing value for Fare\n",
    "Fare having only 0.7% of missing data, Fare can also be predicted using KNN. But to KNN first we need to have all data as numerical. It can't take Male/Female."
   ]
  },
  {
   "cell_type": "code",
   "execution_count": 16,
   "metadata": {},
   "outputs": [],
   "source": [
    "#using knn imputer to fill the null values\n",
    "from sklearn.impute import KNNImputer\n",
    "imputer = KNNImputer(n_neighbors=3)\n",
    "titanicpd = imputer.fit_transform(titanic)\n",
    "titanic = pd.DataFrame(titanicpd, columns = titanic.columns)\n",
    "titanic = titanic.astype(int)"
   ]
  },
  {
   "cell_type": "markdown",
   "metadata": {},
   "source": [
    " \n"
   ]
  },
  {
   "cell_type": "markdown",
   "metadata": {},
   "source": [
    "Here we are creating a creating a fuction to split the data into train and test "
   ]
  },
  {
   "cell_type": "code",
   "execution_count": 17,
   "metadata": {},
   "outputs": [],
   "source": [
    "def train(data): #creating function for train\n",
    "    train = data.iloc[:891,:]\n",
    "    return train\n",
    "def test(data): #creating function for test\n",
    "    test = data.iloc[891:,:]\n",
    "    test = test.drop(columns = \"Survived\")\n",
    "    return test\n",
    "    "
   ]
  },
  {
   "cell_type": "markdown",
   "metadata": {},
   "source": [
    "## Types of Data to create a model\n",
    "We will create different sets of data on which we will train our model. "
   ]
  },
  {
   "cell_type": "markdown",
   "metadata": {},
   "source": [
    "### Titanic1 \n",
    "In this data type we will standardize Age, Fare and Family columns. "
   ]
  },
  {
   "cell_type": "code",
   "execution_count": 18,
   "metadata": {},
   "outputs": [
    {
     "data": {
      "text/html": [
       "<div>\n",
       "<style scoped>\n",
       "    .dataframe tbody tr th:only-of-type {\n",
       "        vertical-align: middle;\n",
       "    }\n",
       "\n",
       "    .dataframe tbody tr th {\n",
       "        vertical-align: top;\n",
       "    }\n",
       "\n",
       "    .dataframe thead th {\n",
       "        text-align: right;\n",
       "    }\n",
       "</style>\n",
       "<table border=\"1\" class=\"dataframe\">\n",
       "  <thead>\n",
       "    <tr style=\"text-align: right;\">\n",
       "      <th></th>\n",
       "      <th>Survived</th>\n",
       "      <th>Age</th>\n",
       "      <th>Fare</th>\n",
       "      <th>Family</th>\n",
       "      <th>Sex_male</th>\n",
       "      <th>Embarked_C</th>\n",
       "      <th>Embarked_S</th>\n",
       "      <th>Pclass_2</th>\n",
       "      <th>Pclass_3</th>\n",
       "      <th>title_1.0</th>\n",
       "      <th>title_2.0</th>\n",
       "      <th>title_3.0</th>\n",
       "      <th>title_4.0</th>\n",
       "    </tr>\n",
       "  </thead>\n",
       "  <tbody>\n",
       "    <tr>\n",
       "      <th>0</th>\n",
       "      <td>0</td>\n",
       "      <td>-0.595809</td>\n",
       "      <td>-0.499677</td>\n",
       "      <td>0.073352</td>\n",
       "      <td>1</td>\n",
       "      <td>0</td>\n",
       "      <td>1</td>\n",
       "      <td>0</td>\n",
       "      <td>1</td>\n",
       "      <td>1</td>\n",
       "      <td>0</td>\n",
       "      <td>0</td>\n",
       "      <td>0</td>\n",
       "    </tr>\n",
       "    <tr>\n",
       "      <th>1</th>\n",
       "      <td>1</td>\n",
       "      <td>0.540263</td>\n",
       "      <td>0.737458</td>\n",
       "      <td>0.073352</td>\n",
       "      <td>0</td>\n",
       "      <td>1</td>\n",
       "      <td>0</td>\n",
       "      <td>0</td>\n",
       "      <td>0</td>\n",
       "      <td>0</td>\n",
       "      <td>1</td>\n",
       "      <td>0</td>\n",
       "      <td>0</td>\n",
       "    </tr>\n",
       "    <tr>\n",
       "      <th>2</th>\n",
       "      <td>1</td>\n",
       "      <td>-0.311791</td>\n",
       "      <td>-0.499677</td>\n",
       "      <td>-0.558346</td>\n",
       "      <td>0</td>\n",
       "      <td>0</td>\n",
       "      <td>1</td>\n",
       "      <td>0</td>\n",
       "      <td>1</td>\n",
       "      <td>0</td>\n",
       "      <td>0</td>\n",
       "      <td>1</td>\n",
       "      <td>0</td>\n",
       "    </tr>\n",
       "    <tr>\n",
       "      <th>3</th>\n",
       "      <td>1</td>\n",
       "      <td>0.327250</td>\n",
       "      <td>0.389514</td>\n",
       "      <td>0.073352</td>\n",
       "      <td>0</td>\n",
       "      <td>0</td>\n",
       "      <td>1</td>\n",
       "      <td>0</td>\n",
       "      <td>0</td>\n",
       "      <td>0</td>\n",
       "      <td>1</td>\n",
       "      <td>0</td>\n",
       "      <td>0</td>\n",
       "    </tr>\n",
       "    <tr>\n",
       "      <th>4</th>\n",
       "      <td>0</td>\n",
       "      <td>0.327250</td>\n",
       "      <td>-0.480347</td>\n",
       "      <td>-0.558346</td>\n",
       "      <td>1</td>\n",
       "      <td>0</td>\n",
       "      <td>1</td>\n",
       "      <td>0</td>\n",
       "      <td>1</td>\n",
       "      <td>1</td>\n",
       "      <td>0</td>\n",
       "      <td>0</td>\n",
       "      <td>0</td>\n",
       "    </tr>\n",
       "  </tbody>\n",
       "</table>\n",
       "</div>"
      ],
      "text/plain": [
       "   Survived       Age      Fare    Family  Sex_male  Embarked_C  Embarked_S  \\\n",
       "0         0 -0.595809 -0.499677  0.073352         1           0           1   \n",
       "1         1  0.540263  0.737458  0.073352         0           1           0   \n",
       "2         1 -0.311791 -0.499677 -0.558346         0           0           1   \n",
       "3         1  0.327250  0.389514  0.073352         0           0           1   \n",
       "4         0  0.327250 -0.480347 -0.558346         1           0           1   \n",
       "\n",
       "   Pclass_2  Pclass_3  title_1.0  title_2.0  title_3.0  title_4.0  \n",
       "0         0         1          1          0          0          0  \n",
       "1         0         0          0          1          0          0  \n",
       "2         0         1          0          0          1          0  \n",
       "3         0         0          0          1          0          0  \n",
       "4         0         1          1          0          0          0  "
      ]
     },
     "execution_count": 18,
     "metadata": {},
     "output_type": "execute_result"
    }
   ],
   "source": [
    "Titanic1 = titanic.copy()\n",
    "col_names = [\"Age\",\"Fare\",\"Family\"]\n",
    "features = Titanic1[col_names]\n",
    "scaler = StandardScaler().fit(features.values)\n",
    "features = scaler.transform(features.values)\n",
    "Titanic1[col_names] = features\n",
    "Titanic1.head()"
   ]
  },
  {
   "cell_type": "code",
   "execution_count": null,
   "metadata": {},
   "outputs": [],
   "source": [
    "#dividing the data into train and test\n",
    "titanic1_train = train(Titanic1)\n",
    "titanic1_test = test(Titanic1)\n",
    "titanic1_train.head()"
   ]
  },
  {
   "cell_type": "markdown",
   "metadata": {},
   "source": [
    "## Titanic2\n",
    "In this we are not going to normalize the data. It is the same data as titanic data"
   ]
  },
  {
   "cell_type": "code",
   "execution_count": 25,
   "metadata": {},
   "outputs": [],
   "source": [
    "# Used data without normalization. So no need to pre process. Just change it into train and test\n",
    "titanic2 = titanic.copy()\n",
    "titanic2_train = train(titanic2)\n",
    "titanic2_test = test(titanic2)"
   ]
  },
  {
   "cell_type": "markdown",
   "metadata": {},
   "source": [
    "## Titanic 3\n",
    "In this we will use ISOMAP for Dimesnion reduction. We will set the n components as 3"
   ]
  },
  {
   "cell_type": "code",
   "execution_count": 26,
   "metadata": {},
   "outputs": [
    {
     "data": {
      "text/html": [
       "<div>\n",
       "<style scoped>\n",
       "    .dataframe tbody tr th:only-of-type {\n",
       "        vertical-align: middle;\n",
       "    }\n",
       "\n",
       "    .dataframe tbody tr th {\n",
       "        vertical-align: top;\n",
       "    }\n",
       "\n",
       "    .dataframe thead th {\n",
       "        text-align: right;\n",
       "    }\n",
       "</style>\n",
       "<table border=\"1\" class=\"dataframe\">\n",
       "  <thead>\n",
       "    <tr style=\"text-align: right;\">\n",
       "      <th></th>\n",
       "      <th>0</th>\n",
       "      <th>1</th>\n",
       "      <th>2</th>\n",
       "    </tr>\n",
       "  </thead>\n",
       "  <tbody>\n",
       "    <tr>\n",
       "      <th>891</th>\n",
       "      <td>-21.979981</td>\n",
       "      <td>-0.646153</td>\n",
       "      <td>9.375414</td>\n",
       "    </tr>\n",
       "    <tr>\n",
       "      <th>892</th>\n",
       "      <td>-23.678811</td>\n",
       "      <td>-2.175473</td>\n",
       "      <td>23.669549</td>\n",
       "    </tr>\n",
       "    <tr>\n",
       "      <th>893</th>\n",
       "      <td>-24.993206</td>\n",
       "      <td>-4.262507</td>\n",
       "      <td>36.201751</td>\n",
       "    </tr>\n",
       "    <tr>\n",
       "      <th>894</th>\n",
       "      <td>-22.895129</td>\n",
       "      <td>-0.491196</td>\n",
       "      <td>2.824839</td>\n",
       "    </tr>\n",
       "    <tr>\n",
       "      <th>895</th>\n",
       "      <td>-18.273659</td>\n",
       "      <td>0.550595</td>\n",
       "      <td>-8.122668</td>\n",
       "    </tr>\n",
       "    <tr>\n",
       "      <th>...</th>\n",
       "      <td>...</td>\n",
       "      <td>...</td>\n",
       "      <td>...</td>\n",
       "    </tr>\n",
       "    <tr>\n",
       "      <th>1304</th>\n",
       "      <td>-24.243047</td>\n",
       "      <td>-0.560662</td>\n",
       "      <td>-1.762583</td>\n",
       "    </tr>\n",
       "    <tr>\n",
       "      <th>1305</th>\n",
       "      <td>20.768355</td>\n",
       "      <td>4.411655</td>\n",
       "      <td>1.382773</td>\n",
       "    </tr>\n",
       "    <tr>\n",
       "      <th>1306</th>\n",
       "      <td>-21.852895</td>\n",
       "      <td>-0.896259</td>\n",
       "      <td>13.575859</td>\n",
       "    </tr>\n",
       "    <tr>\n",
       "      <th>1307</th>\n",
       "      <td>-24.243047</td>\n",
       "      <td>-0.560662</td>\n",
       "      <td>-1.762583</td>\n",
       "    </tr>\n",
       "    <tr>\n",
       "      <th>1308</th>\n",
       "      <td>-4.907273</td>\n",
       "      <td>2.217874</td>\n",
       "      <td>-24.085862</td>\n",
       "    </tr>\n",
       "  </tbody>\n",
       "</table>\n",
       "<p>418 rows × 3 columns</p>\n",
       "</div>"
      ],
      "text/plain": [
       "              0         1          2\n",
       "891  -21.979981 -0.646153   9.375414\n",
       "892  -23.678811 -2.175473  23.669549\n",
       "893  -24.993206 -4.262507  36.201751\n",
       "894  -22.895129 -0.491196   2.824839\n",
       "895  -18.273659  0.550595  -8.122668\n",
       "...         ...       ...        ...\n",
       "1304 -24.243047 -0.560662  -1.762583\n",
       "1305  20.768355  4.411655   1.382773\n",
       "1306 -21.852895 -0.896259  13.575859\n",
       "1307 -24.243047 -0.560662  -1.762583\n",
       "1308  -4.907273  2.217874 -24.085862\n",
       "\n",
       "[418 rows x 3 columns]"
      ]
     },
     "execution_count": 26,
     "metadata": {},
     "output_type": "execute_result"
    }
   ],
   "source": [
    "from sklearn.manifold import Isomap\n",
    "titanic3 = titanic.copy()\n",
    "X = titanic3.drop(columns = \"Survived\")\n",
    "y = titanic3[\"Survived\"]\n",
    "iso = Isomap(n_components=3)\n",
    "titanic3= iso.fit_transform(X)\n",
    "titanic3 = pd.DataFrame(titanic3)\n",
    "titanic3[\"Survived\"] = y\n",
    "titanic3_train = train(titanic3)\n",
    "titanic3_test = test(titanic3)\n",
    "titanic3_test.head()"
   ]
  },
  {
   "cell_type": "markdown",
   "metadata": {},
   "source": [
    "## Titanic 4\n",
    "In this we will use TSNE for dimension reduction.\n",
    "from sklearn.manifold import Isomap\n"
   ]
  },
  {
   "cell_type": "code",
   "execution_count": 27,
   "metadata": {},
   "outputs": [],
   "source": [
    "titanic4 = titanic.copy()\n",
    "X = titanic4.drop(columns = \"Survived\")\n",
    "y = titanic4[\"Survived\"]\n",
    "tsne = TSNE(n_components=3)\n",
    "titanic4= iso.fit_transform(X)\n",
    "titanic4 = pd.DataFrame(titanic4)\n",
    "titanic4[\"Survived\"] = y\n",
    "titanic4_train = train(titanic4)\n",
    "titanic4_test = test(titanic4)"
   ]
  },
  {
   "cell_type": "markdown",
   "metadata": {},
   "source": [
    "## Titanic 5\n",
    "In this data I converted age to categories. I divided it into 4 group 0-18, 19-35, 36-65 and 65 and above"
   ]
  },
  {
   "cell_type": "code",
   "execution_count": 28,
   "metadata": {},
   "outputs": [],
   "source": [
    "titanic_cat = titanic.copy()\n",
    "titanic_cat[\"age_cat\"] = 4\n",
    "titanic_cat.loc[(titanic_cat[\"Age\"] >=0) & (titanic_cat[\"Age\"] <=18),\"age_cat\"] = 1\n",
    "titanic_cat.loc[(titanic_cat[\"Age\"] >=19) & (titanic_cat[\"Age\"] <=35),\"age_cat\"] = 2\n",
    "titanic_cat.loc[(titanic_cat[\"Age\"] >=36) & (titanic_cat[\"Age\"] <=65),\"age_cat\"] = 3\n",
    "titanic_cat = titanic_cat.drop(columns = \"Age\")\n",
    "titanic_cat = pd.get_dummies(titanic_cat, columns = [\"age_cat\"])\n",
    "titanic_cat = titanic_cat.drop(columns =\"age_cat_4\")\n",
    "titanic_cat_train = train(titanic_cat)\n",
    "titanic_cat_test = test(titanic_cat)"
   ]
  },
  {
   "cell_type": "markdown",
   "metadata": {},
   "source": [
    "## Titanic 6\n",
    "In this data we will use the age column that we converted into category and standardize the Fare and Family column. "
   ]
  },
  {
   "cell_type": "code",
   "execution_count": 31,
   "metadata": {},
   "outputs": [],
   "source": [
    "titanic_cat_stand = titanic_cat.copy()\n",
    "col_names = [\"Fare\",\"Family\"]\n",
    "features = titanic_cat_stand[col_names]\n",
    "scaler = StandardScaler().fit(features.values)\n",
    "features = scaler.transform(features.values)\n",
    "titanic_cat_stand[col_names] = features\n",
    "titanic_cat_stand.head()\n",
    "titanic_cat_stand_train = train(titanic_cat_stand)\n",
    "titanic_cat_stand_test = test(titanic_cat_stand)"
   ]
  },
  {
   "cell_type": "markdown",
   "metadata": {},
   "source": [
    "## Defining Algorithms to run it under different data sets\n",
    " "
   ]
  },
  {
   "cell_type": "code",
   "execution_count": 35,
   "metadata": {},
   "outputs": [],
   "source": [
    "def logregmodel(X, y):\n",
    "    model = LogisticRegression(solver = \"liblinear\", random_state = 0)\n",
    "    accuracy_logreg = cross_val_score(model,X,y, cv =10,scoring = \"accuracy\")\n",
    "    return accuracy_logreg, np.mean(accuracy_logreg)\n"
   ]
  },
  {
   "cell_type": "markdown",
   "metadata": {},
   "source": [
    "### KNN model"
   ]
  },
  {
   "cell_type": "code",
   "execution_count": 36,
   "metadata": {},
   "outputs": [],
   "source": [
    "def KNN(X, y):\n",
    "    KNN_model = KNeighborsClassifier()\n",
    "    param_grid = {'n_neighbors': [1,2,3,4,5,6]}\n",
    "    cv = StratifiedKFold(n_splits=5, random_state=0, shuffle=True)\n",
    "    grid = GridSearchCV(KNN_model, param_grid, cv = cv, scoring='accuracy',\n",
    "                        return_train_score=False)\n",
    "    grid.fit(X,y)\n",
    "    print(\"Best Parameter: {}\".format(grid.best_params_))\n",
    "    print(\"Best Cross Vlidation Score: {}\".format(grid.best_score_))\n",
    "    "
   ]
  },
  {
   "cell_type": "markdown",
   "metadata": {},
   "source": [
    "### SVC"
   ]
  },
  {
   "cell_type": "code",
   "execution_count": 38,
   "metadata": {},
   "outputs": [],
   "source": [
    "def model_data(X, y):\n",
    "    param_grid = {'C': [.1, 1, 5, 10, 50],\n",
    "                  'gamma': [0.0001, 0.0005, 0.001, 0.005],\n",
    "                   'kernel': [\"rbf\",\"linear\"]}\n",
    "    svc = SVC()\n",
    "    \n",
    "    grid = GridSearchCV(svc, param_grid, cv = 5, scoring='accuracy')\n",
    "    grid.fit(X, y)\n",
    "    print(grid.best_params_)\n",
    "    print(grid.best_score_)"
   ]
  },
  {
   "cell_type": "code",
   "execution_count": null,
   "metadata": {},
   "outputs": [],
   "source": []
  },
  {
   "cell_type": "markdown",
   "metadata": {},
   "source": [
    "### Decision Tree Classifier"
   ]
  },
  {
   "cell_type": "code",
   "execution_count": 39,
   "metadata": {},
   "outputs": [],
   "source": [
    "def Dectree(X,y):\n",
    "    param_grid = {\"min_samples_leaf\":[2,3,4,5],\n",
    "                 \"max_depth\":[3,4,5,6,7,8,10],\n",
    "                 \"criterion\": [\"gini\",\"entropy\"]}\n",
    "\n",
    "    model = DecisionTreeClassifier()\n",
    "    grid = GridSearchCV(model,param_grid,scoring = \"accuracy\")\n",
    "    grid.fit(X,y)\n",
    "    print(\"Grid best parameters\",grid.best_params_)\n",
    "    print(\"grid best score\",grid.best_score_)\n",
    "    print(\"Tree best estimator\", grid.best_estimator_)\n",
    "    "
   ]
  },
  {
   "cell_type": "markdown",
   "metadata": {},
   "source": [
    "### Random Forest"
   ]
  },
  {
   "cell_type": "code",
   "execution_count": 40,
   "metadata": {},
   "outputs": [],
   "source": [
    "def RanFor(X,y):\n",
    "    X_train, X_test, y_train, y_test = train_test_split(X, y, test_size = 0.3,random_state=0)\n",
    "    n = [10,30,50,100,200,500]\n",
    "    for i in n:\n",
    "        model = RandomForestClassifier(n_estimators = i, random_state = 0, min_samples_leaf = 3)\n",
    "        model.fit(X_train, y_train)\n",
    "        y_test_hat = model.predict(X_test)\n",
    "        acc_ranfor = accuracy_score(y_test,y_test_hat, normalize = True) * 100 \n",
    "        print(\"accuracy score with n =\",i,\",\", acc_ranfor)"
   ]
  },
  {
   "cell_type": "code",
   "execution_count": 41,
   "metadata": {},
   "outputs": [],
   "source": [
    "def allalgo(data):\n",
    "    X = data.drop(columns = [\"Survived\"])\n",
    "    y = data[\"Survived\"]\n",
    "   \n",
    "    print(\"Logistic Regression\\n\\n\")\n",
    "    print(logregmodel(X,y))\n",
    "    print(\"\\n\\nKNN Model\\n\\n\")\n",
    "    print(KNN(X, y))\n",
    "    print(\"\\n\\nSVC Model\\n\\n\")\n",
    "    print(model_data(X,y))\n",
    "    print(\"\\n\\nClassification tree Model\\n\\n\")\n",
    "    print(Dectree(X, y))\n",
    "    print(\"\\n\\nRandom Forest\\n\\n\")\n",
    "    return RanFor(X, y)\n",
    "    \n",
    "    "
   ]
  },
  {
   "cell_type": "markdown",
   "metadata": {},
   "source": [
    "## Running all Algorithms on Normalized data - Titanic 1\n",
    " we have functiosn saved above. Lets call them for each dataset"
   ]
  },
  {
   "cell_type": "code",
   "execution_count": 42,
   "metadata": {},
   "outputs": [
    {
     "name": "stdout",
     "output_type": "stream",
     "text": [
      "Logistic Regression\n",
      "\n",
      "\n",
      "(array([0.81111111, 0.85393258, 0.7752809 , 0.87640449, 0.80898876,\n",
      "       0.79775281, 0.82022472, 0.82022472, 0.85393258, 0.87640449]), 0.8294257178526843)\n",
      "\n",
      "\n",
      "KNN Model\n",
      "\n",
      "\n",
      "Best Parameter: {'n_neighbors': 5}\n",
      "Best Cross Vlidation Score: 0.8248697508003264\n",
      "None\n",
      "\n",
      "\n",
      "SVC Model\n",
      "\n",
      "\n",
      "{'C': 50, 'gamma': 0.005, 'kernel': 'rbf'}\n",
      "0.8349946644906158\n",
      "None\n",
      "\n",
      "\n",
      "Classification tree Model\n",
      "\n",
      "\n",
      "Grid best parameters {'criterion': 'gini', 'max_depth': 5, 'min_samples_leaf': 3}\n",
      "grid best score 0.8361496453455526\n",
      "Tree best estimator DecisionTreeClassifier(ccp_alpha=0.0, class_weight=None, criterion='gini',\n",
      "                       max_depth=5, max_features=None, max_leaf_nodes=None,\n",
      "                       min_impurity_decrease=0.0, min_impurity_split=None,\n",
      "                       min_samples_leaf=3, min_samples_split=2,\n",
      "                       min_weight_fraction_leaf=0.0, presort='deprecated',\n",
      "                       random_state=None, splitter='best')\n",
      "None\n",
      "\n",
      "\n",
      "Random Forest\n",
      "\n",
      "\n",
      "accuracy score with n = 10 , 82.08955223880598\n",
      "accuracy score with n = 30 , 82.46268656716418\n",
      "accuracy score with n = 50 , 81.71641791044776\n",
      "accuracy score with n = 100 , 81.34328358208955\n",
      "accuracy score with n = 200 , 81.71641791044776\n",
      "accuracy score with n = 500 , 81.71641791044776\n"
     ]
    }
   ],
   "source": [
    "allalgo(titanic1_train)"
   ]
  },
  {
   "cell_type": "markdown",
   "metadata": {},
   "source": [
    "## Running all Algorithms on Regular data - Titanic 2"
   ]
  },
  {
   "cell_type": "code",
   "execution_count": 43,
   "metadata": {},
   "outputs": [
    {
     "name": "stdout",
     "output_type": "stream",
     "text": [
      "Logistic Regression\n",
      "\n",
      "\n",
      "(array([0.83333333, 0.85393258, 0.7752809 , 0.86516854, 0.82022472,\n",
      "       0.78651685, 0.82022472, 0.82022472, 0.85393258, 0.86516854]), 0.8294007490636706)\n",
      "\n",
      "\n",
      "KNN Model\n",
      "\n",
      "\n",
      "Best Parameter: {'n_neighbors': 3}\n",
      "Best Cross Vlidation Score: 0.7351704224468019\n",
      "None\n",
      "\n",
      "\n",
      "SVC Model\n",
      "\n",
      "\n",
      "{'C': 1, 'gamma': 0.0001, 'kernel': 'linear'}\n",
      "0.8305065595380077\n",
      "None\n",
      "\n",
      "\n",
      "Classification tree Model\n",
      "\n",
      "\n",
      "Grid best parameters {'criterion': 'gini', 'max_depth': 5, 'min_samples_leaf': 3}\n",
      "grid best score 0.8361496453455526\n",
      "Tree best estimator DecisionTreeClassifier(ccp_alpha=0.0, class_weight=None, criterion='gini',\n",
      "                       max_depth=5, max_features=None, max_leaf_nodes=None,\n",
      "                       min_impurity_decrease=0.0, min_impurity_split=None,\n",
      "                       min_samples_leaf=3, min_samples_split=2,\n",
      "                       min_weight_fraction_leaf=0.0, presort='deprecated',\n",
      "                       random_state=None, splitter='best')\n",
      "None\n",
      "\n",
      "\n",
      "Random Forest\n",
      "\n",
      "\n",
      "accuracy score with n = 10 , 82.08955223880598\n",
      "accuracy score with n = 30 , 82.46268656716418\n",
      "accuracy score with n = 50 , 81.71641791044776\n",
      "accuracy score with n = 100 , 81.34328358208955\n",
      "accuracy score with n = 200 , 81.71641791044776\n",
      "accuracy score with n = 500 , 81.71641791044776\n"
     ]
    }
   ],
   "source": [
    "allalgo(titanic2_train)"
   ]
  },
  {
   "cell_type": "markdown",
   "metadata": {},
   "source": [
    "## Running all Algorithms on ISOMAP - Titanic 3"
   ]
  },
  {
   "cell_type": "code",
   "execution_count": 44,
   "metadata": {},
   "outputs": [
    {
     "name": "stdout",
     "output_type": "stream",
     "text": [
      "Logistic Regression\n",
      "\n",
      "\n",
      "(array([0.54444444, 0.56179775, 0.65168539, 0.65168539, 0.64044944,\n",
      "       0.73033708, 0.70786517, 0.68539326, 0.68539326, 0.6741573 ]), 0.6533208489388265)\n",
      "\n",
      "\n",
      "KNN Model\n",
      "\n",
      "\n",
      "Best Parameter: {'n_neighbors': 3}\n",
      "Best Cross Vlidation Score: 0.7227732094658214\n",
      "None\n",
      "\n",
      "\n",
      "SVC Model\n",
      "\n",
      "\n",
      "{'C': 10, 'gamma': 0.005, 'kernel': 'rbf'}\n",
      "0.6847404431611324\n",
      "None\n",
      "\n",
      "\n",
      "Classification tree Model\n",
      "\n",
      "\n",
      "Grid best parameters {'criterion': 'gini', 'max_depth': 6, 'min_samples_leaf': 5}\n",
      "grid best score 0.6959073504488105\n",
      "Tree best estimator DecisionTreeClassifier(ccp_alpha=0.0, class_weight=None, criterion='gini',\n",
      "                       max_depth=6, max_features=None, max_leaf_nodes=None,\n",
      "                       min_impurity_decrease=0.0, min_impurity_split=None,\n",
      "                       min_samples_leaf=5, min_samples_split=2,\n",
      "                       min_weight_fraction_leaf=0.0, presort='deprecated',\n",
      "                       random_state=None, splitter='best')\n",
      "None\n",
      "\n",
      "\n",
      "Random Forest\n",
      "\n",
      "\n",
      "accuracy score with n = 10 , 73.13432835820896\n",
      "accuracy score with n = 30 , 72.38805970149254\n",
      "accuracy score with n = 50 , 72.38805970149254\n",
      "accuracy score with n = 100 , 72.01492537313433\n",
      "accuracy score with n = 200 , 72.38805970149254\n",
      "accuracy score with n = 500 , 72.01492537313433\n"
     ]
    }
   ],
   "source": [
    "allalgo(titanic3_train)"
   ]
  },
  {
   "cell_type": "markdown",
   "metadata": {},
   "source": [
    "## Running all Algorithms on TSNE - Titanic 4"
   ]
  },
  {
   "cell_type": "code",
   "execution_count": 45,
   "metadata": {},
   "outputs": [
    {
     "name": "stdout",
     "output_type": "stream",
     "text": [
      "Logistic Regression\n",
      "\n",
      "\n",
      "(array([0.54444444, 0.56179775, 0.65168539, 0.65168539, 0.64044944,\n",
      "       0.73033708, 0.70786517, 0.68539326, 0.68539326, 0.6741573 ]), 0.6533208489388265)\n",
      "\n",
      "\n",
      "KNN Model\n",
      "\n",
      "\n",
      "Best Parameter: {'n_neighbors': 3}\n",
      "Best Cross Vlidation Score: 0.7216496139602033\n",
      "None\n",
      "\n",
      "\n",
      "SVC Model\n",
      "\n",
      "\n",
      "{'C': 10, 'gamma': 0.005, 'kernel': 'rbf'}\n",
      "0.6847404431611324\n",
      "None\n",
      "\n",
      "\n",
      "Classification tree Model\n",
      "\n",
      "\n",
      "Grid best parameters {'criterion': 'entropy', 'max_depth': 7, 'min_samples_leaf': 2}\n",
      "grid best score 0.697074885443475\n",
      "Tree best estimator DecisionTreeClassifier(ccp_alpha=0.0, class_weight=None, criterion='entropy',\n",
      "                       max_depth=7, max_features=None, max_leaf_nodes=None,\n",
      "                       min_impurity_decrease=0.0, min_impurity_split=None,\n",
      "                       min_samples_leaf=2, min_samples_split=2,\n",
      "                       min_weight_fraction_leaf=0.0, presort='deprecated',\n",
      "                       random_state=None, splitter='best')\n",
      "None\n",
      "\n",
      "\n",
      "Random Forest\n",
      "\n",
      "\n",
      "accuracy score with n = 10 , 73.13432835820896\n",
      "accuracy score with n = 30 , 72.38805970149254\n",
      "accuracy score with n = 50 , 72.38805970149254\n",
      "accuracy score with n = 100 , 72.01492537313433\n",
      "accuracy score with n = 200 , 72.38805970149254\n",
      "accuracy score with n = 500 , 72.01492537313433\n"
     ]
    }
   ],
   "source": [
    "allalgo(titanic4_train) # we have this functions saved above. Lets call them for each data set"
   ]
  },
  {
   "cell_type": "markdown",
   "metadata": {},
   "source": [
    "## Running all Algorithms on Age as Categorical - Titanic 5"
   ]
  },
  {
   "cell_type": "code",
   "execution_count": 50,
   "metadata": {},
   "outputs": [
    {
     "name": "stdout",
     "output_type": "stream",
     "text": [
      "Logistic Regression\n",
      "\n",
      "\n",
      "(array([0.8       , 0.85393258, 0.7752809 , 0.88764045, 0.80898876,\n",
      "       0.80898876, 0.82022472, 0.83146067, 0.86516854, 0.86516854]), 0.8316853932584269)\n",
      "\n",
      "\n",
      "KNN Model\n",
      "\n",
      "\n",
      "Best Parameter: {'n_neighbors': 5}\n",
      "Best Cross Vlidation Score: 0.7912183792605612\n",
      "None\n",
      "\n",
      "\n",
      "SVC Model\n",
      "\n",
      "\n",
      "{'C': 1, 'gamma': 0.0001, 'kernel': 'linear'}\n",
      "0.8327537505492437\n",
      "None\n",
      "\n",
      "\n",
      "Classification tree Model\n",
      "\n",
      "\n",
      "Grid best parameters {'criterion': 'entropy', 'max_depth': 4, 'min_samples_leaf': 3}\n",
      "grid best score 0.8215805661917017\n",
      "Tree best estimator DecisionTreeClassifier(ccp_alpha=0.0, class_weight=None, criterion='entropy',\n",
      "                       max_depth=4, max_features=None, max_leaf_nodes=None,\n",
      "                       min_impurity_decrease=0.0, min_impurity_split=None,\n",
      "                       min_samples_leaf=3, min_samples_split=2,\n",
      "                       min_weight_fraction_leaf=0.0, presort='deprecated',\n",
      "                       random_state=None, splitter='best')\n",
      "None\n",
      "\n",
      "\n",
      "Random Forest\n",
      "\n",
      "\n",
      "accuracy score with n = 10 , 82.46268656716418\n",
      "accuracy score with n = 30 , 84.32835820895522\n",
      "accuracy score with n = 50 , 84.70149253731343\n",
      "accuracy score with n = 100 , 85.07462686567165\n",
      "accuracy score with n = 200 , 85.07462686567165\n",
      "accuracy score with n = 500 , 86.56716417910447\n"
     ]
    }
   ],
   "source": [
    "allalgo(titanic_cat_train)"
   ]
  },
  {
   "cell_type": "markdown",
   "metadata": {},
   "source": [
    "From the above models we can see that the best Logistic Regression accuracy score is for Data titanic1 but for titanic_cat also the highest accuracy score is 88. So we will go with both. (77.6, 77.9)\n",
    "Best KNN Model is for titanic1 with 81.4% accuracy (77.03)\n",
    "Best SVC Model we will be running all teh 3 data's Titanic1, titanic2, titanic_cat\n",
    "For Classification tree also we will be running all the above mentioned 3 models\n",
    "For Random forest we will be running titanic_cat"
   ]
  },
  {
   "cell_type": "markdown",
   "metadata": {},
   "source": [
    "## Running all Algorithms on Categorical and Standardized data - Titanic 6"
   ]
  },
  {
   "cell_type": "code",
   "execution_count": 51,
   "metadata": {},
   "outputs": [
    {
     "name": "stdout",
     "output_type": "stream",
     "text": [
      "Logistic Regression\n",
      "\n",
      "\n",
      "(array([0.81111111, 0.85393258, 0.7752809 , 0.88764045, 0.80898876,\n",
      "       0.79775281, 0.82022472, 0.83146067, 0.86516854, 0.86516854]), 0.8316729088639201)\n",
      "\n",
      "\n",
      "KNN Model\n",
      "\n",
      "\n",
      "Best Parameter: {'n_neighbors': 4}\n",
      "Best Cross Vlidation Score: 0.8215491808423827\n",
      "None\n",
      "\n",
      "\n",
      "SVC Model\n",
      "\n",
      "\n",
      "{'C': 50, 'gamma': 0.005, 'kernel': 'rbf'}\n",
      "0.8361182599962339\n",
      "None\n",
      "\n",
      "\n",
      "Classification tree Model\n",
      "\n",
      "\n",
      "Grid best parameters {'criterion': 'entropy', 'max_depth': 4, 'min_samples_leaf': 4}\n",
      "grid best score 0.8215805661917017\n",
      "Tree best estimator DecisionTreeClassifier(ccp_alpha=0.0, class_weight=None, criterion='entropy',\n",
      "                       max_depth=4, max_features=None, max_leaf_nodes=None,\n",
      "                       min_impurity_decrease=0.0, min_impurity_split=None,\n",
      "                       min_samples_leaf=4, min_samples_split=2,\n",
      "                       min_weight_fraction_leaf=0.0, presort='deprecated',\n",
      "                       random_state=None, splitter='best')\n",
      "None\n",
      "\n",
      "\n",
      "Random Forest\n",
      "\n",
      "\n",
      "accuracy score with n = 10 , 82.46268656716418\n",
      "accuracy score with n = 30 , 84.32835820895522\n",
      "accuracy score with n = 50 , 85.07462686567165\n",
      "accuracy score with n = 100 , 85.44776119402985\n",
      "accuracy score with n = 200 , 85.44776119402985\n",
      "accuracy score with n = 500 , 86.56716417910447\n"
     ]
    }
   ],
   "source": [
    "allalgo(titanic_cat_stand_train)"
   ]
  },
  {
   "cell_type": "markdown",
   "metadata": {},
   "source": [
    "# Running the best Models"
   ]
  },
  {
   "cell_type": "code",
   "execution_count": 69,
   "metadata": {},
   "outputs": [
    {
     "name": "stdout",
     "output_type": "stream",
     "text": [
      "Kaggle accuracy is 79.4\n"
     ]
    }
   ],
   "source": [
    "logreg_model1 = LogisticRegression(solver='liblinear',random_state =0)\n",
    "logreg_model1.fit(titanic1_train.drop(columns = \"Survived\"),titanic1_train[\"Survived\"])\n",
    "y_test_hat = logreg_model1.predict(titanic1_test)\n",
    "y_test_hat = y_test_hat.astype(int)\n",
    "submit = pd.DataFrame({'PassengerId' : titanic_test_main[\"PassengerId\"],\n",
    "                       'Survived': y_test_hat})\n",
    "submit.to_csv(\"submit_logtitanic1.csv\", index=False)\n",
    "print(\"Kaggle accuracy is 79.4\")"
   ]
  },
  {
   "cell_type": "code",
   "execution_count": 68,
   "metadata": {},
   "outputs": [
    {
     "name": "stdout",
     "output_type": "stream",
     "text": [
      "Kaggle accuracy is 78.4\n"
     ]
    }
   ],
   "source": [
    "svc_titanic1 = SVC(kernel = \"linear\",C=5, gamma= 0.0001)\n",
    "svc_titanic1.fit(titanic1_train.drop(columns = \"Survived\"),titanic1_train[\"Survived\"])\n",
    "y_test_hat3 = svc_titanic1.predict(titanic1_test)\n",
    "y_test_hat3 = y_test_hat3.astype(int)\n",
    "submit = pd.DataFrame({'PassengerId' : titanic_test_main[\"PassengerId\"],\n",
    "                       'Survived': y_test_hat3})\n",
    "submit.to_csv(\"submit_svc.csv\", index=False)\n",
    "print(\"Kaggle accuracy is 78.4\")"
   ]
  },
  {
   "cell_type": "code",
   "execution_count": 54,
   "metadata": {},
   "outputs": [],
   "source": [
    "svc_titanic1 = SVC(kernel = \"linear\",C=5, gamma= 0.0001)\n",
    "svc_titanic1.fit(titanic1_train.drop(columns = \"Survived\"),titanic1_train[\"Survived\"])\n",
    "y_test_hat3 = svc_titanic1.predict(titanic1_test)\n",
    "y_test_hat3 = y_test_hat3.astype(int)\n",
    "submit = pd.DataFrame({'PassengerId' : titanic_test_main[\"PassengerId\"],\n",
    "                       'Survived': y_test_hat3})\n",
    "submit.to_csv(\"submit_svc.csv\", index=False)"
   ]
  },
  {
   "cell_type": "code",
   "execution_count": 67,
   "metadata": {},
   "outputs": [
    {
     "name": "stdout",
     "output_type": "stream",
     "text": [
      "Kaggle accuracy is 78.4%\n"
     ]
    }
   ],
   "source": [
    "model = DecisionTreeClassifier(max_depth= 5, min_samples_leaf = 2)\n",
    "model.fit(titanic1_train.drop(columns = \"Survived\"),titanic1_train[\"Survived\"])\n",
    "y_test_hat3 = svc_titanic1.predict(titanic1_test)\n",
    "y_test_hat3 = y_test_hat3.astype(int)\n",
    "submittree = pd.DataFrame({'PassengerId' : titanic_test_main[\"PassengerId\"],\n",
    "                       'Survived': y_test_hat3})\n",
    "submittree.to_csv(\"submit_tree.csv\", index=False)\n",
    "print(\"Kaggle accuracy is 78.4%\")"
   ]
  },
  {
   "cell_type": "code",
   "execution_count": 66,
   "metadata": {},
   "outputs": [],
   "source": [
    "logreg_modelcat = LogisticRegression(solver='liblinear',random_state =0)\n",
    "logreg_modelcat.fit(titanic_cat_train.drop(columns = \"Survived\"),titanic_cat_train[\"Survived\"])\n",
    "y_test_hat1 = logreg_modelcat.predict(titanic_cat_test)\n",
    "y_test_hat1 = y_test_hat1.astype(int)\n",
    "submitcat = pd.DataFrame({'PassengerId' : titanic_test_main[\"PassengerId\"],\n",
    "                       'Survived': y_test_hat1})\n",
    "submitcat.to_csv(\"submit_logtitaniccat.csv\", index=False)"
   ]
  },
  {
   "cell_type": "code",
   "execution_count": 64,
   "metadata": {},
   "outputs": [
    {
     "name": "stdout",
     "output_type": "stream",
     "text": [
      "Kaggle accuracy 80.3%\n"
     ]
    }
   ],
   "source": [
    "model = RandomForestClassifier(n_estimators = 500, random_state = 0, min_samples_leaf = 3)\n",
    "model.fit(titanic_cat_train.drop(columns = \"Survived\"),titanic_cat_train[\"Survived\"])\n",
    "y_test_hat = model.predict(titanic_cat_test)\n",
    "y_test_hat = y_test_hat.astype(int)\n",
    "submit_cat_ranforest5001 = pd.DataFrame({'PassengerId' : titanic_test_main[\"PassengerId\"],\n",
    "                       'Survived': y_test_hat})\n",
    "submit_cat_ranforest5001.to_csv(\"submit_catfor5001.csv\", index=False)\n",
    "print(\"Kaggle accuracy 80.3%\")\n"
   ]
  },
  {
   "cell_type": "code",
   "execution_count": 65,
   "metadata": {},
   "outputs": [
    {
     "name": "stdout",
     "output_type": "stream",
     "text": [
      "Kaggle accuracy 79.4\n"
     ]
    }
   ],
   "source": [
    "model = RandomForestClassifier(n_estimators = 200, random_state = 0, min_samples_leaf = 3)\n",
    "model.fit(titanic_cat_stand_train.drop(columns = \"Survived\"),titanic_cat_stand_train[\"Survived\"])\n",
    "y_test_hat = model.predict(titanic_cat_stand_test)\n",
    "y_test_hat = y_test_hat.astype(int)\n",
    "submit_cat_ranforest2001 = pd.DataFrame({'PassengerId' : titanic_test_main[\"PassengerId\"],\n",
    "                       'Survived': y_test_hat})\n",
    "submit_cat_ranforest2001.to_csv(\"submit_catfor2001.csv\", index=False)\n",
    "print(\"Kaggle accuracy 79.4\")"
   ]
  },
  {
   "cell_type": "code",
   "execution_count": null,
   "metadata": {},
   "outputs": [],
   "source": []
  }
 ],
 "metadata": {
  "kernelspec": {
   "display_name": "Python 3",
   "language": "python",
   "name": "python3"
  },
  "language_info": {
   "codemirror_mode": {
    "name": "ipython",
    "version": 3
   },
   "file_extension": ".py",
   "mimetype": "text/x-python",
   "name": "python",
   "nbconvert_exporter": "python",
   "pygments_lexer": "ipython3",
   "version": "3.7.6"
  }
 },
 "nbformat": 4,
 "nbformat_minor": 2
}
